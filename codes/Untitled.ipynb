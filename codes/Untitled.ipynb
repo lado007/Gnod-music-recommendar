{
 "cells": [
  {
   "cell_type": "code",
   "execution_count": 84,
   "metadata": {},
   "outputs": [],
   "source": [
    "def sample():\n",
    "    import numpy as np\n",
    "    from sklearn.cluster import KMeans\n",
    "    from spotifyAF_search_new import spotify\n",
    "    spotify_search=spotify()\n",
    "    import pandas as pd\n",
    "    scaled_df=pd.read_csv('scaled_df2')\n",
    "    scaled_df.drop(['Unnamed: 0'], inplace=True, axis=1)\n",
    "    \n",
    "    \n",
    "    #re run kmeans to fit to our old data frame (correct # of clusters )\n",
    "    kmeans=KMeans(n_clusters=49, random_state=5)\n",
    "    kmeans.fit(scaled_df)\n",
    "    \n",
    "    search=  kmeans.predict(spotify_search)\n",
    "    \n",
    "    return search[0]\n",
    "    "
   ]
  },
  {
   "cell_type": "code",
   "execution_count": 85,
   "metadata": {},
   "outputs": [
    {
     "name": "stdout",
     "output_type": "stream",
     "text": [
      "enter your client id?········\n",
      "enter your client secret?········\n",
      "enter song name? :one love\n"
     ]
    },
    {
     "data": {
      "text/plain": [
       "29"
      ]
     },
     "execution_count": 85,
     "metadata": {},
     "output_type": "execute_result"
    }
   ],
   "source": [
    "sample()"
   ]
  },
  {
   "cell_type": "code",
   "execution_count": 42,
   "metadata": {},
   "outputs": [],
   "source": [
    "import pandas as pd\n",
    "\n",
    "audiof_df=pd.read_csv('audio_dfurl')\n",
    "audiof_df.drop(['Unnamed: 0'], inplace=True, axis=1)"
   ]
  },
  {
   "cell_type": "code",
   "execution_count": 71,
   "metadata": {},
   "outputs": [],
   "source": [
    "recommender=audiof_df[audiof_df.cluster==29].sample(1)"
   ]
  },
  {
   "cell_type": "code",
   "execution_count": 72,
   "metadata": {},
   "outputs": [
    {
     "data": {
      "text/html": [
       "<div>\n",
       "<style scoped>\n",
       "    .dataframe tbody tr th:only-of-type {\n",
       "        vertical-align: middle;\n",
       "    }\n",
       "\n",
       "    .dataframe tbody tr th {\n",
       "        vertical-align: top;\n",
       "    }\n",
       "\n",
       "    .dataframe thead th {\n",
       "        text-align: right;\n",
       "    }\n",
       "</style>\n",
       "<table border=\"1\" class=\"dataframe\">\n",
       "  <thead>\n",
       "    <tr style=\"text-align: right;\">\n",
       "      <th></th>\n",
       "      <th>danceability</th>\n",
       "      <th>energy</th>\n",
       "      <th>key</th>\n",
       "      <th>loudness</th>\n",
       "      <th>mode</th>\n",
       "      <th>speechiness</th>\n",
       "      <th>acousticness</th>\n",
       "      <th>instrumentalness</th>\n",
       "      <th>liveness</th>\n",
       "      <th>valence</th>\n",
       "      <th>tempo</th>\n",
       "      <th>id</th>\n",
       "      <th>duration_ms</th>\n",
       "      <th>cluster</th>\n",
       "      <th>release_date</th>\n",
       "      <th>album</th>\n",
       "      <th>song</th>\n",
       "      <th>artist</th>\n",
       "    </tr>\n",
       "  </thead>\n",
       "  <tbody>\n",
       "    <tr>\n",
       "      <th>721</th>\n",
       "      <td>0.815</td>\n",
       "      <td>0.757</td>\n",
       "      <td>10</td>\n",
       "      <td>-6.16</td>\n",
       "      <td>0</td>\n",
       "      <td>0.039</td>\n",
       "      <td>0.382</td>\n",
       "      <td>0.000003</td>\n",
       "      <td>0.147</td>\n",
       "      <td>0.734</td>\n",
       "      <td>104.986</td>\n",
       "      <td>1Kgyx7NLtzsa3gWV1efGHu</td>\n",
       "      <td>209680</td>\n",
       "      <td>29</td>\n",
       "      <td>2007-01-01</td>\n",
       "      <td>Wisin Vs Yandel \"Los Extraterrestres\"</td>\n",
       "      <td>Sexy Movimiento</td>\n",
       "      <td>Wisin &amp; Yandel</td>\n",
       "    </tr>\n",
       "  </tbody>\n",
       "</table>\n",
       "</div>"
      ],
      "text/plain": [
       "     danceability  energy  key  loudness  mode  speechiness  acousticness  \\\n",
       "721         0.815   0.757   10     -6.16     0        0.039         0.382   \n",
       "\n",
       "     instrumentalness  liveness  valence    tempo                      id  \\\n",
       "721          0.000003     0.147    0.734  104.986  1Kgyx7NLtzsa3gWV1efGHu   \n",
       "\n",
       "     duration_ms  cluster release_date                                  album  \\\n",
       "721       209680       29   2007-01-01  Wisin Vs Yandel \"Los Extraterrestres\"   \n",
       "\n",
       "                song          artist  \n",
       "721  Sexy Movimiento  Wisin & Yandel  "
      ]
     },
     "execution_count": 72,
     "metadata": {},
     "output_type": "execute_result"
    }
   ],
   "source": [
    "recommender"
   ]
  },
  {
   "cell_type": "code",
   "execution_count": 73,
   "metadata": {},
   "outputs": [
    {
     "data": {
      "text/plain": [
       "'1Kgyx7NLtzsa3gWV1efGHu'"
      ]
     },
     "execution_count": 73,
     "metadata": {},
     "output_type": "execute_result"
    }
   ],
   "source": [
    "recommender['id'].values[0]"
   ]
  },
  {
   "cell_type": "code",
   "execution_count": 74,
   "metadata": {},
   "outputs": [
    {
     "data": {
      "text/html": [
       "\n",
       "        <iframe\n",
       "            width=\"500\"\n",
       "            height=\"100\"\n",
       "            src=\"https://open.spotify.com/embed/track/1Kgyx7NLtzsa3gWV1efGHu?frameborder=10&allowtransparency=true&allow=encrypted-media\"\n",
       "            frameborder=\"0\"\n",
       "            allowfullscreen\n",
       "        ></iframe>\n",
       "        "
      ],
      "text/plain": [
       "<IPython.lib.display.IFrame at 0x296b70da550>"
      ]
     },
     "metadata": {},
     "output_type": "display_data"
    }
   ],
   "source": [
    "from IPython.core.display import display\n",
    "from IPython.display import IFrame\n",
    "\n",
    "display(IFrame(src=f'https://open.spotify.com/embed/track/'+recommender['id'].values[0],\n",
    "               width='500',height='100',\n",
    "               frameborder='10',\n",
    "               allowtransparency='true',\n",
    "               allow='encrypted-media',))"
   ]
  },
  {
   "cell_type": "code",
   "execution_count": null,
   "metadata": {},
   "outputs": [],
   "source": []
  }
 ],
 "metadata": {
  "kernelspec": {
   "display_name": "Python 3",
   "language": "python",
   "name": "python3"
  },
  "language_info": {
   "codemirror_mode": {
    "name": "ipython",
    "version": 3
   },
   "file_extension": ".py",
   "mimetype": "text/x-python",
   "name": "python",
   "nbconvert_exporter": "python",
   "pygments_lexer": "ipython3",
   "version": "3.8.5"
  }
 },
 "nbformat": 4,
 "nbformat_minor": 4
}
