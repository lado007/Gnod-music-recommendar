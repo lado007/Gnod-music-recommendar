{
 "cells": [
  {
   "cell_type": "code",
   "execution_count": 9,
   "metadata": {},
   "outputs": [],
   "source": [
    "def billboard_data():\n",
    "    \n",
    "    #1. import our libraries\n",
    "    import pandas as pd\n",
    "    import requests\n",
    "    from bs4 import BeautifulSoup \n",
    "    \n",
    "    #2. find url and store it in a variable\n",
    "    url = \"https://www.billboard.com/charts/hot-100\"\n",
    "    \n",
    "    #3. download html with a get request\n",
    "    page = requests.get(url)\n",
    "    if page.status_code != 200:\n",
    "        print(\"Scraping failed. Status code \" + str(page.status_code))\n",
    "        \n",
    "    #4. parse html (create the 'soup')\n",
    "    soup = BeautifulSoup(page.content, \"html.parser\")\n",
    "    \n",
    "    #5. selecting specific variables \n",
    "    songs=soup.select('h3.c-title.a-no-trucate')[14].get_text(strip = True)\n",
    "    artists=soup.select('span.c-label.a-no-trucate')[14].get_text(strip = True)\n",
    "    \n",
    "    #6. checking if the length of the two variables\n",
    "    len_songtitle=len(soup.select('h3.c-title.a-no-trucate'))\n",
    "    len_artist=len(soup.select('span.c-label.a-no-trucate'))\n",
    "    if len_songtitle != len_artist:\n",
    "        print('index do not match,please check length of variables')\n",
    "    \n",
    "    #7. appending the data into columns and rank\n",
    "    song_rank=[]\n",
    "    song_title=[]\n",
    "    Artist=[]\n",
    "\n",
    "    for i in (range(len_songtitle)):\n",
    "        song_rank.append(i+1)\n",
    "        song_title.append(soup.select('h3.c-title.a-no-trucate')[i].get_text(strip = True))\n",
    "        Artist.append(soup.select('span.c-label.a-no-trucate')[i].get_text(strip = True))\n",
    "        \n",
    "    #8. putting data into a dataframe\n",
    "    top_100_songs = pd.DataFrame({'rank':song_rank,\n",
    "                           'song':song_title,\n",
    "                           'artist':Artist})\n",
    "    return top_100_songs\n",
    "    \n",
    "    \n",
    "    \n",
    "     "
   ]
  },
  {
   "cell_type": "code",
   "execution_count": null,
   "metadata": {},
   "outputs": [],
   "source": []
  }
 ],
 "metadata": {
  "kernelspec": {
   "display_name": "Python 3",
   "language": "python",
   "name": "python3"
  },
  "language_info": {
   "codemirror_mode": {
    "name": "ipython",
    "version": 3
   },
   "file_extension": ".py",
   "mimetype": "text/x-python",
   "name": "python",
   "nbconvert_exporter": "python",
   "pygments_lexer": "ipython3",
   "version": "3.8.5"
  }
 },
 "nbformat": 4,
 "nbformat_minor": 4
}
