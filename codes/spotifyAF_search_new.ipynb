{
 "cells": [
  {
   "cell_type": "code",
   "execution_count": 28,
   "metadata": {},
   "outputs": [],
   "source": [
    "def spotify():\n",
    "    #import libraries\n",
    "    import spotipy \n",
    "    from spotipy.oauth2 import SpotifyClientCredentials\n",
    "    import getpass\n",
    "    client_id=str(getpass.getpass('enter your client id?'))\n",
    "    client_secret=str(getpass.getpass('enter your client secret?'))\n",
    "    sp = spotipy.Spotify(auth_manager=SpotifyClientCredentials(\n",
    "    client_id=client_id,\n",
    "    client_secret=client_secret))\n",
    "    \n",
    "    import pandas as pd\n",
    "    scaled_df=pd.read_csv('audio_df')\n",
    "    scaled_df.drop(['Unnamed: 0'], inplace=True, axis=1)\n",
    "    \n",
    "    \n",
    "    \n",
    "    \n",
    "    \n",
    "    #search song uri\n",
    "    results=sp.search(q=input('enter song name? :'),limit=1, type='track')\n",
    "    name=results['tracks']['items'][0]['name']\n",
    "    artist=results['tracks']['items'][0][\"artists\"][0][\"name\"]\n",
    "    uri = results['tracks']['items'][0]['uri']\n",
    "    \n",
    "    #get audio features\n",
    "    audio_feat_inputsong=sp.audio_features(tracks=uri)\n",
    "    audio_feat_dict=audio_feat_inputsong[0]\n",
    "    af_df=pd.DataFrame.from_dict([audio_feat_dict])\n",
    "    af_df.drop(['track_href','type','id','uri','analysis_url','time_signature'], inplace=True, axis=1)\n",
    "    \n",
    "    from sklearn.preprocessing import MinMaxScaler\n",
    "    scaler=MinMaxScaler()\n",
    "    scaler.fit(scaled_df)\n",
    "    array_df=scaler.transform(af_df)\n",
    "    search_df=pd.DataFrame(array_df,columns=['danceability', 'energy', 'key', 'loudness', 'mode', 'speechiness',\n",
    "       'acousticness', 'instrumentalness', 'liveness', 'valence', 'tempo',\n",
    "       'duration_ms'])\n",
    "    return search_df\n",
    "    \n",
    "    "
   ]
  },
  {
   "cell_type": "code",
   "execution_count": 29,
   "metadata": {},
   "outputs": [
    {
     "name": "stdout",
     "output_type": "stream",
     "text": [
      "enter your client id?········\n",
      "enter your client secret?········\n",
      "enter song name? :one love\n"
     ]
    },
    {
     "data": {
      "text/html": [
       "<div>\n",
       "<style scoped>\n",
       "    .dataframe tbody tr th:only-of-type {\n",
       "        vertical-align: middle;\n",
       "    }\n",
       "\n",
       "    .dataframe tbody tr th {\n",
       "        vertical-align: top;\n",
       "    }\n",
       "\n",
       "    .dataframe thead th {\n",
       "        text-align: right;\n",
       "    }\n",
       "</style>\n",
       "<table border=\"1\" class=\"dataframe\">\n",
       "  <thead>\n",
       "    <tr style=\"text-align: right;\">\n",
       "      <th></th>\n",
       "      <th>danceability</th>\n",
       "      <th>energy</th>\n",
       "      <th>key</th>\n",
       "      <th>loudness</th>\n",
       "      <th>mode</th>\n",
       "      <th>speechiness</th>\n",
       "      <th>acousticness</th>\n",
       "      <th>instrumentalness</th>\n",
       "      <th>liveness</th>\n",
       "      <th>valence</th>\n",
       "      <th>tempo</th>\n",
       "      <th>duration_ms</th>\n",
       "    </tr>\n",
       "  </thead>\n",
       "  <tbody>\n",
       "    <tr>\n",
       "      <th>0</th>\n",
       "      <td>0.70771</td>\n",
       "      <td>0.473684</td>\n",
       "      <td>0.909091</td>\n",
       "      <td>0.552706</td>\n",
       "      <td>1.0</td>\n",
       "      <td>0.631491</td>\n",
       "      <td>0.080104</td>\n",
       "      <td>0.0</td>\n",
       "      <td>0.051948</td>\n",
       "      <td>0.951997</td>\n",
       "      <td>0.073211</td>\n",
       "      <td>0.106172</td>\n",
       "    </tr>\n",
       "  </tbody>\n",
       "</table>\n",
       "</div>"
      ],
      "text/plain": [
       "   danceability    energy       key  loudness  mode  speechiness  \\\n",
       "0       0.70771  0.473684  0.909091  0.552706   1.0     0.631491   \n",
       "\n",
       "   acousticness  instrumentalness  liveness   valence     tempo  duration_ms  \n",
       "0      0.080104               0.0  0.051948  0.951997  0.073211     0.106172  "
      ]
     },
     "execution_count": 29,
     "metadata": {},
     "output_type": "execute_result"
    }
   ],
   "source": [
    "spotify()"
   ]
  },
  {
   "cell_type": "code",
   "execution_count": null,
   "metadata": {},
   "outputs": [],
   "source": []
  },
  {
   "cell_type": "code",
   "execution_count": null,
   "metadata": {},
   "outputs": [],
   "source": []
  }
 ],
 "metadata": {
  "kernelspec": {
   "display_name": "Python 3",
   "language": "python",
   "name": "python3"
  },
  "language_info": {
   "codemirror_mode": {
    "name": "ipython",
    "version": 3
   },
   "file_extension": ".py",
   "mimetype": "text/x-python",
   "name": "python",
   "nbconvert_exporter": "python",
   "pygments_lexer": "ipython3",
   "version": "3.8.5"
  }
 },
 "nbformat": 4,
 "nbformat_minor": 4
}
